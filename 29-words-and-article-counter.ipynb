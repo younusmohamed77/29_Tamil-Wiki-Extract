{
 "cells": [
  {
   "cell_type": "code",
   "execution_count": 1,
   "id": "bf20e2ae",
   "metadata": {
    "execution": {
     "iopub.execute_input": "2024-11-12T07:56:15.066492Z",
     "iopub.status.busy": "2024-11-12T07:56:15.065913Z",
     "iopub.status.idle": "2024-11-12T07:56:15.078755Z",
     "shell.execute_reply": "2024-11-12T07:56:15.077668Z"
    },
    "papermill": {
     "duration": 0.02518,
     "end_time": "2024-11-12T07:56:15.081535",
     "exception": false,
     "start_time": "2024-11-12T07:56:15.056355",
     "status": "completed"
    },
    "tags": []
   },
   "outputs": [],
   "source": [
    "import os\n",
    "from collections import Counter\n",
    "import re\n",
    "# Define paths for train and valid directories\n",
    "train_directory = \"/kaggle/input/tamil-wikipedia-articles/train/train\"\n",
    "valid_directory = \"/kaggle/input/tamil-wikipedia-articles/valid/valid\""
   ]
  },
  {
   "cell_type": "code",
   "execution_count": 2,
   "id": "6c685558",
   "metadata": {
    "execution": {
     "iopub.execute_input": "2024-11-12T07:56:15.097457Z",
     "iopub.status.busy": "2024-11-12T07:56:15.097001Z",
     "iopub.status.idle": "2024-11-12T07:56:15.102702Z",
     "shell.execute_reply": "2024-11-12T07:56:15.101486Z"
    },
    "papermill": {
     "duration": 0.016468,
     "end_time": "2024-11-12T07:56:15.105415",
     "exception": false,
     "start_time": "2024-11-12T07:56:15.088947",
     "status": "completed"
    },
    "tags": []
   },
   "outputs": [],
   "source": [
    "# Initialize counters for total words and articles\n",
    "total_word_count = Counter()\n",
    "article_count = 0"
   ]
  },
  {
   "cell_type": "code",
   "execution_count": 3,
   "id": "2f9bfaf6",
   "metadata": {
    "execution": {
     "iopub.execute_input": "2024-11-12T07:56:15.120465Z",
     "iopub.status.busy": "2024-11-12T07:56:15.119973Z",
     "iopub.status.idle": "2024-11-12T07:56:15.127033Z",
     "shell.execute_reply": "2024-11-12T07:56:15.125851Z"
    },
    "papermill": {
     "duration": 0.017903,
     "end_time": "2024-11-12T07:56:15.129975",
     "exception": false,
     "start_time": "2024-11-12T07:56:15.112072",
     "status": "completed"
    },
    "tags": []
   },
   "outputs": [
    {
     "name": "stdout",
     "output_type": "stream",
     "text": [
      "Word counting function for Tamil text defined.\n"
     ]
    }
   ],
   "source": [
    "# Function to count words in a text\n",
    "def count_words_in_text(text):\n",
    "    # Use Unicode range for Tamil characters\n",
    "    words = re.findall(r'[\\u0B80-\\u0BFF]+', text)\n",
    "    return Counter(words)\n",
    "print(\"Word counting function for Tamil text defined.\")"
   ]
  },
  {
   "cell_type": "code",
   "execution_count": 4,
   "id": "8b474eae",
   "metadata": {
    "execution": {
     "iopub.execute_input": "2024-11-12T07:56:15.145809Z",
     "iopub.status.busy": "2024-11-12T07:56:15.145333Z",
     "iopub.status.idle": "2024-11-12T07:56:42.476223Z",
     "shell.execute_reply": "2024-11-12T07:56:42.474692Z"
    },
    "papermill": {
     "duration": 27.342665,
     "end_time": "2024-11-12T07:56:42.479727",
     "exception": false,
     "start_time": "2024-11-12T07:56:15.137062",
     "status": "completed"
    },
    "tags": []
   },
   "outputs": [
    {
     "name": "stdout",
     "output_type": "stream",
     "text": [
      "Article counting and word counting completed.\n"
     ]
    }
   ],
   "source": [
    "# Traverse both directories to count words and articles\n",
    "for directory in [train_directory, valid_directory]:\n",
    "    for subdir, _, files in os.walk(directory):\n",
    "        for file in files:\n",
    "            if file.endswith(\".txt\"):\n",
    "                file_path = os.path.join(subdir, file)\n",
    "                with open(file_path, 'r', encoding='utf-8') as f:\n",
    "                    content = f.read()\n",
    "                    # Split content by <doc> tags for each article\n",
    "                    articles = content.split('<doc')\n",
    "                    for article in articles:\n",
    "                        if '</doc>' in article:  # Ensure it's a complete article\n",
    "                            # Count words in the article\n",
    "                            word_count = count_words_in_text(article)\n",
    "                            total_word_count.update(word_count)\n",
    "                            article_count += 1  # Count each <doc> as one article\n",
    "print(\"Article counting and word counting completed.\")"
   ]
  },
  {
   "cell_type": "code",
   "execution_count": 5,
   "id": "fdb8e307",
   "metadata": {
    "execution": {
     "iopub.execute_input": "2024-11-12T07:56:42.496145Z",
     "iopub.status.busy": "2024-11-12T07:56:42.495717Z",
     "iopub.status.idle": "2024-11-12T07:56:42.861740Z",
     "shell.execute_reply": "2024-11-12T07:56:42.860296Z"
    },
    "papermill": {
     "duration": 0.377879,
     "end_time": "2024-11-12T07:56:42.864622",
     "exception": false,
     "start_time": "2024-11-12T07:56:42.486743",
     "status": "completed"
    },
    "tags": []
   },
   "outputs": [
    {
     "name": "stdout",
     "output_type": "stream",
     "text": [
      "Total number of articles: 127381\n",
      "Total number of words: 17260747\n",
      "Top 10 most common words: [('மற்றும்', 169923), ('ஒரு', 146832), ('ஆம்', 105997), ('இந்த', 105943), ('ஊராட்சி', 79564), ('இது', 75156), ('என்ற', 69162), ('ஆகும்', 68282), ('உள்ள', 57670), ('ஆண்டு', 54158)]\n"
     ]
    }
   ],
   "source": [
    "# Display results\n",
    "print(\"Total number of articles:\", article_count)\n",
    "print(\"Total number of words:\", sum(total_word_count.values()))\n",
    "print(\"Top 10 most common words:\", total_word_count.most_common(10))"
   ]
  },
  {
   "cell_type": "code",
   "execution_count": null,
   "id": "7b422e87",
   "metadata": {
    "papermill": {
     "duration": 0.006707,
     "end_time": "2024-11-12T07:56:42.878583",
     "exception": false,
     "start_time": "2024-11-12T07:56:42.871876",
     "status": "completed"
    },
    "tags": []
   },
   "outputs": [],
   "source": []
  },
  {
   "cell_type": "code",
   "execution_count": null,
   "id": "efc1b4d7",
   "metadata": {
    "papermill": {
     "duration": 0.00698,
     "end_time": "2024-11-12T07:56:42.892575",
     "exception": false,
     "start_time": "2024-11-12T07:56:42.885595",
     "status": "completed"
    },
    "tags": []
   },
   "outputs": [],
   "source": []
  },
  {
   "cell_type": "code",
   "execution_count": null,
   "id": "7a4929d3",
   "metadata": {
    "papermill": {
     "duration": 0.007088,
     "end_time": "2024-11-12T07:56:42.907608",
     "exception": false,
     "start_time": "2024-11-12T07:56:42.900520",
     "status": "completed"
    },
    "tags": []
   },
   "outputs": [],
   "source": []
  },
  {
   "cell_type": "code",
   "execution_count": null,
   "id": "bb2d2319",
   "metadata": {
    "papermill": {
     "duration": 0.006508,
     "end_time": "2024-11-12T07:56:42.921068",
     "exception": false,
     "start_time": "2024-11-12T07:56:42.914560",
     "status": "completed"
    },
    "tags": []
   },
   "outputs": [],
   "source": []
  },
  {
   "cell_type": "code",
   "execution_count": null,
   "id": "f2ac4c94",
   "metadata": {
    "papermill": {
     "duration": 0.006673,
     "end_time": "2024-11-12T07:56:42.934823",
     "exception": false,
     "start_time": "2024-11-12T07:56:42.928150",
     "status": "completed"
    },
    "tags": []
   },
   "outputs": [],
   "source": []
  },
  {
   "cell_type": "code",
   "execution_count": null,
   "id": "91d8d4a2",
   "metadata": {
    "papermill": {
     "duration": 0.006452,
     "end_time": "2024-11-12T07:56:42.948070",
     "exception": false,
     "start_time": "2024-11-12T07:56:42.941618",
     "status": "completed"
    },
    "tags": []
   },
   "outputs": [],
   "source": []
  },
  {
   "cell_type": "code",
   "execution_count": null,
   "id": "f89fe6e3",
   "metadata": {
    "papermill": {
     "duration": 0.007261,
     "end_time": "2024-11-12T07:56:42.963623",
     "exception": false,
     "start_time": "2024-11-12T07:56:42.956362",
     "status": "completed"
    },
    "tags": []
   },
   "outputs": [],
   "source": []
  },
  {
   "cell_type": "code",
   "execution_count": null,
   "id": "520f92f0",
   "metadata": {
    "papermill": {
     "duration": 0.007208,
     "end_time": "2024-11-12T07:56:42.978301",
     "exception": false,
     "start_time": "2024-11-12T07:56:42.971093",
     "status": "completed"
    },
    "tags": []
   },
   "outputs": [],
   "source": []
  },
  {
   "cell_type": "code",
   "execution_count": null,
   "id": "e394df44",
   "metadata": {
    "papermill": {
     "duration": 0.006945,
     "end_time": "2024-11-12T07:56:42.992313",
     "exception": false,
     "start_time": "2024-11-12T07:56:42.985368",
     "status": "completed"
    },
    "tags": []
   },
   "outputs": [],
   "source": []
  },
  {
   "cell_type": "code",
   "execution_count": null,
   "id": "e2d33761",
   "metadata": {
    "papermill": {
     "duration": 0.006815,
     "end_time": "2024-11-12T07:56:43.006155",
     "exception": false,
     "start_time": "2024-11-12T07:56:42.999340",
     "status": "completed"
    },
    "tags": []
   },
   "outputs": [],
   "source": []
  },
  {
   "cell_type": "code",
   "execution_count": null,
   "id": "089ade4b",
   "metadata": {
    "papermill": {
     "duration": 0.006636,
     "end_time": "2024-11-12T07:56:43.019703",
     "exception": false,
     "start_time": "2024-11-12T07:56:43.013067",
     "status": "completed"
    },
    "tags": []
   },
   "outputs": [],
   "source": []
  },
  {
   "cell_type": "code",
   "execution_count": null,
   "id": "073113a5",
   "metadata": {
    "papermill": {
     "duration": 0.006955,
     "end_time": "2024-11-12T07:56:43.033643",
     "exception": false,
     "start_time": "2024-11-12T07:56:43.026688",
     "status": "completed"
    },
    "tags": []
   },
   "outputs": [],
   "source": []
  },
  {
   "cell_type": "code",
   "execution_count": null,
   "id": "5d5b18b8",
   "metadata": {
    "papermill": {
     "duration": 0.006675,
     "end_time": "2024-11-12T07:56:43.047353",
     "exception": false,
     "start_time": "2024-11-12T07:56:43.040678",
     "status": "completed"
    },
    "tags": []
   },
   "outputs": [],
   "source": []
  },
  {
   "cell_type": "code",
   "execution_count": null,
   "id": "e1681455",
   "metadata": {
    "papermill": {
     "duration": 0.006634,
     "end_time": "2024-11-12T07:56:43.060895",
     "exception": false,
     "start_time": "2024-11-12T07:56:43.054261",
     "status": "completed"
    },
    "tags": []
   },
   "outputs": [],
   "source": []
  },
  {
   "cell_type": "code",
   "execution_count": null,
   "id": "73ac35da",
   "metadata": {
    "papermill": {
     "duration": 0.006684,
     "end_time": "2024-11-12T07:56:43.074608",
     "exception": false,
     "start_time": "2024-11-12T07:56:43.067924",
     "status": "completed"
    },
    "tags": []
   },
   "outputs": [],
   "source": []
  },
  {
   "cell_type": "code",
   "execution_count": null,
   "id": "163fd798",
   "metadata": {
    "papermill": {
     "duration": 0.006532,
     "end_time": "2024-11-12T07:56:43.087941",
     "exception": false,
     "start_time": "2024-11-12T07:56:43.081409",
     "status": "completed"
    },
    "tags": []
   },
   "outputs": [],
   "source": []
  },
  {
   "cell_type": "code",
   "execution_count": null,
   "id": "c2eac707",
   "metadata": {
    "papermill": {
     "duration": 0.007469,
     "end_time": "2024-11-12T07:56:43.102595",
     "exception": false,
     "start_time": "2024-11-12T07:56:43.095126",
     "status": "completed"
    },
    "tags": []
   },
   "outputs": [],
   "source": []
  }
 ],
 "metadata": {
  "kaggle": {
   "accelerator": "none",
   "dataSources": [
    {
     "datasetId": 455483,
     "sourceId": 859181,
     "sourceType": "datasetVersion"
    }
   ],
   "dockerImageVersionId": 30786,
   "isGpuEnabled": false,
   "isInternetEnabled": true,
   "language": "python",
   "sourceType": "notebook"
  },
  "kernelspec": {
   "display_name": "Python 3",
   "language": "python",
   "name": "python3"
  },
  "language_info": {
   "codemirror_mode": {
    "name": "ipython",
    "version": 3
   },
   "file_extension": ".py",
   "mimetype": "text/x-python",
   "name": "python",
   "nbconvert_exporter": "python",
   "pygments_lexer": "ipython3",
   "version": "3.10.14"
  },
  "papermill": {
   "default_parameters": {},
   "duration": 31.929166,
   "end_time": "2024-11-12T07:56:43.632760",
   "environment_variables": {},
   "exception": null,
   "input_path": "__notebook__.ipynb",
   "output_path": "__notebook__.ipynb",
   "parameters": {},
   "start_time": "2024-11-12T07:56:11.703594",
   "version": "2.6.0"
  }
 },
 "nbformat": 4,
 "nbformat_minor": 5
}
