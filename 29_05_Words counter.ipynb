{
 "cells": [
  {
   "cell_type": "markdown",
   "id": "c8a704c9",
   "metadata": {
    "papermill": {
     "duration": 0.004465,
     "end_time": "2024-11-12T13:39:04.292737",
     "exception": false,
     "start_time": "2024-11-12T13:39:04.288272",
     "status": "completed"
    },
    "tags": []
   },
   "source": [
    "# Tamil Wikipedia Text Analysis\n",
    "## Introduction\n",
    "Tamil, one of the world’s oldest languages, is rich in vocabulary and linguistic complexity. However, in the field of Natural Language Processing (NLP), it remains a relatively low-resource language, especially when compared to languages like English. This notebook aims to contribute to making Tamil a higher-resource language by analyzing a dataset of Tamil Wikipedia articles. Specifically, this project focuses on creating a word frequency count for Tamil Wikipedia articles, which can serve as a foundational resource for various NLP tasks, including language modeling, vocabulary analysis, and text mining.\n",
    "### Project Overview\n",
    "This notebook processes the Tamil Wikipedia dataset by counting the occurrences of each unique word across the entire collection of articles. With a comprehensive frequency list of Tamil words, this project provides insights into commonly used vocabulary and word distributions, which are essential for understanding and modeling the language. This word frequency dataset can be further utilized to support future projects, such as developing Tamil language models or improving tools for sentiment analysis, machine translation, and other language-based applications.\n",
    "### Objectives\n",
    "- **Load and Process Data**: Read and process individual text files containing Tamil Wikipedia articles, extracting individual words.\n",
    "- **Frequency Analysis**: Count occurrences of each unique word across all articles, producing a sorted list of the most frequently used words.\n",
    "- **Dataset for NLP**: Create a word frequency dataset that can be used as a resource for future NLP tasks in Tamil, helping to address the current lack of high-resource materials for the language.\n",
    "### Relevance and Future Impact\n",
    "The insights and resources generated from this analysis provide a foundational step towards building tools and datasets that support Tamil as a high-resource language in NLP. A comprehensive word frequency list is critical for tasks such as language modeling, dictionary creation, and vocabulary expansion. By understanding word distributions, researchers and developers can better adapt NLP models to accurately process and understand Tamil text. Future steps could involve expanding the dataset, filtering out commonly used words, and incorporating visualizations to deepen the analysis.\n",
    "With this notebook, we take a small yet significant step towards empowering Tamil language processing, hoping to inspire further contributions from the NLP community."
   ]
  },
  {
   "cell_type": "code",
   "execution_count": 1,
   "id": "7064186a",
   "metadata": {
    "execution": {
     "iopub.execute_input": "2024-11-12T13:39:04.302083Z",
     "iopub.status.busy": "2024-11-12T13:39:04.301654Z",
     "iopub.status.idle": "2024-11-12T13:39:05.217918Z",
     "shell.execute_reply": "2024-11-12T13:39:05.216636Z"
    },
    "papermill": {
     "duration": 0.9235,
     "end_time": "2024-11-12T13:39:05.220281",
     "exception": false,
     "start_time": "2024-11-12T13:39:04.296781",
     "status": "completed"
    },
    "tags": []
   },
   "outputs": [
    {
     "name": "stdout",
     "output_type": "stream",
     "text": [
      "Libraries imported.\n"
     ]
    }
   ],
   "source": [
    "# Import Libraries and Set Up Timer\n",
    "import os\n",
    "import pandas as pd\n",
    "from collections import Counter\n",
    "import re\n",
    "import time\n",
    "\n",
    "# Start timer for the entire notebook\n",
    "notebook_start_time = time.time()\n",
    "print(\"Libraries imported.\")"
   ]
  },
  {
   "cell_type": "code",
   "execution_count": 2,
   "id": "062c295c",
   "metadata": {
    "execution": {
     "iopub.execute_input": "2024-11-12T13:39:05.229901Z",
     "iopub.status.busy": "2024-11-12T13:39:05.229306Z",
     "iopub.status.idle": "2024-11-12T13:39:05.235472Z",
     "shell.execute_reply": "2024-11-12T13:39:05.234395Z"
    },
    "papermill": {
     "duration": 0.013722,
     "end_time": "2024-11-12T13:39:05.237866",
     "exception": false,
     "start_time": "2024-11-12T13:39:05.224144",
     "status": "completed"
    },
    "tags": []
   },
   "outputs": [
    {
     "name": "stdout",
     "output_type": "stream",
     "text": [
      "Input directory: /kaggle/input/tamil-tamizh-wikipedia-articles/Tamil Wikipedia Text Articles/Tamil Wikipedia Text Articles\n",
      "Output CSV path: /kaggle/working/tamil_word_counts.csv\n"
     ]
    }
   ],
   "source": [
    "# Set input directory paths based on the exact paths you provided\n",
    "input_directory = \"/kaggle/input/tamil-tamizh-wikipedia-articles/Tamil Wikipedia Text Articles/Tamil Wikipedia Text Articles\"\n",
    "output_csv = \"/kaggle/working/tamil_word_counts.csv\"\n",
    "\n",
    "# Print paths for reference\n",
    "print(f\"Input directory: {input_directory}\")\n",
    "print(f\"Output CSV path: {output_csv}\")"
   ]
  },
  {
   "cell_type": "code",
   "execution_count": 3,
   "id": "89e27868",
   "metadata": {
    "execution": {
     "iopub.execute_input": "2024-11-12T13:39:05.247099Z",
     "iopub.status.busy": "2024-11-12T13:39:05.246590Z",
     "iopub.status.idle": "2024-11-12T13:39:05.253429Z",
     "shell.execute_reply": "2024-11-12T13:39:05.252414Z"
    },
    "papermill": {
     "duration": 0.013796,
     "end_time": "2024-11-12T13:39:05.255519",
     "exception": false,
     "start_time": "2024-11-12T13:39:05.241723",
     "status": "completed"
    },
    "tags": []
   },
   "outputs": [
    {
     "name": "stdout",
     "output_type": "stream",
     "text": [
      "Word counting function defined for Tamil text.\n"
     ]
    }
   ],
   "source": [
    "def count_words_in_text(text):\n",
    "    # Use a regex pattern to match whole words in Tamil script\n",
    "    # \\u0B80-\\u0BFF is the Unicode range for Tamil characters\n",
    "    words = re.findall(r'[\\u0B80-\\u0BFF]+', text)\n",
    "    return Counter(words)\n",
    "\n",
    "print(\"Word counting function defined for Tamil text.\")"
   ]
  },
  {
   "cell_type": "code",
   "execution_count": 4,
   "id": "af429f9d",
   "metadata": {
    "execution": {
     "iopub.execute_input": "2024-11-12T13:39:05.265087Z",
     "iopub.status.busy": "2024-11-12T13:39:05.264378Z",
     "iopub.status.idle": "2024-11-12T13:39:05.270035Z",
     "shell.execute_reply": "2024-11-12T13:39:05.268934Z"
    },
    "papermill": {
     "duration": 0.01288,
     "end_time": "2024-11-12T13:39:05.272330",
     "exception": false,
     "start_time": "2024-11-12T13:39:05.259450",
     "status": "completed"
    },
    "tags": []
   },
   "outputs": [
    {
     "name": "stdout",
     "output_type": "stream",
     "text": [
      "Total word counter and article counter initialized.\n"
     ]
    }
   ],
   "source": [
    "total_word_count = Counter()\n",
    "article_count = 0\n",
    "print(\"Total word counter and article counter initialized.\")"
   ]
  },
  {
   "cell_type": "code",
   "execution_count": 5,
   "id": "91c43ef5",
   "metadata": {
    "execution": {
     "iopub.execute_input": "2024-11-12T13:39:05.281728Z",
     "iopub.status.busy": "2024-11-12T13:39:05.281312Z",
     "iopub.status.idle": "2024-11-12T13:40:15.825014Z",
     "shell.execute_reply": "2024-11-12T13:40:15.823439Z"
    },
    "papermill": {
     "duration": 70.551234,
     "end_time": "2024-11-12T13:40:15.827490",
     "exception": false,
     "start_time": "2024-11-12T13:39:05.276256",
     "status": "completed"
    },
    "tags": []
   },
   "outputs": [
    {
     "name": "stdout",
     "output_type": "stream",
     "text": [
      "Processed /kaggle/input/tamil-tamizh-wikipedia-articles/Tamil Wikipedia Text Articles/Tamil Wikipedia Text Articles/AA/wiki_80.txt with 2462 articles.\n",
      "Processed /kaggle/input/tamil-tamizh-wikipedia-articles/Tamil Wikipedia Text Articles/Tamil Wikipedia Text Articles/AA/wiki_82.txt with 5573 articles.\n",
      "Processed /kaggle/input/tamil-tamizh-wikipedia-articles/Tamil Wikipedia Text Articles/Tamil Wikipedia Text Articles/AA/wiki_01.txt with 1618 articles.\n",
      "Processed /kaggle/input/tamil-tamizh-wikipedia-articles/Tamil Wikipedia Text Articles/Tamil Wikipedia Text Articles/AA/wiki_38.txt with 6252 articles.\n",
      "Processed /kaggle/input/tamil-tamizh-wikipedia-articles/Tamil Wikipedia Text Articles/Tamil Wikipedia Text Articles/AA/wiki_95.txt with 3648 articles.\n",
      "Processed /kaggle/input/tamil-tamizh-wikipedia-articles/Tamil Wikipedia Text Articles/Tamil Wikipedia Text Articles/AA/wiki_96.txt with 4354 articles.\n",
      "Processed /kaggle/input/tamil-tamizh-wikipedia-articles/Tamil Wikipedia Text Articles/Tamil Wikipedia Text Articles/AA/wiki_41.txt with 6279 articles.\n",
      "Processed /kaggle/input/tamil-tamizh-wikipedia-articles/Tamil Wikipedia Text Articles/Tamil Wikipedia Text Articles/AA/wiki_40.txt with 6262 articles.\n",
      "Processed /kaggle/input/tamil-tamizh-wikipedia-articles/Tamil Wikipedia Text Articles/Tamil Wikipedia Text Articles/AA/wiki_22.txt with 1280 articles.\n",
      "Processed /kaggle/input/tamil-tamizh-wikipedia-articles/Tamil Wikipedia Text Articles/Tamil Wikipedia Text Articles/AA/wiki_66.txt with 5053 articles.\n",
      "Processed /kaggle/input/tamil-tamizh-wikipedia-articles/Tamil Wikipedia Text Articles/Tamil Wikipedia Text Articles/AA/wiki_29.txt with 822 articles.\n",
      "Processed /kaggle/input/tamil-tamizh-wikipedia-articles/Tamil Wikipedia Text Articles/Tamil Wikipedia Text Articles/AA/wiki_20.txt with 4891 articles.\n",
      "Processed /kaggle/input/tamil-tamizh-wikipedia-articles/Tamil Wikipedia Text Articles/Tamil Wikipedia Text Articles/AA/wiki_23.txt with 921 articles.\n",
      "Processed /kaggle/input/tamil-tamizh-wikipedia-articles/Tamil Wikipedia Text Articles/Tamil Wikipedia Text Articles/AA/wiki_58.txt with 4287 articles.\n",
      "Processed /kaggle/input/tamil-tamizh-wikipedia-articles/Tamil Wikipedia Text Articles/Tamil Wikipedia Text Articles/AA/wiki_49.txt with 5060 articles.\n",
      "Processed /kaggle/input/tamil-tamizh-wikipedia-articles/Tamil Wikipedia Text Articles/Tamil Wikipedia Text Articles/AA/wiki_07.txt with 2926 articles.\n",
      "Processed /kaggle/input/tamil-tamizh-wikipedia-articles/Tamil Wikipedia Text Articles/Tamil Wikipedia Text Articles/AA/wiki_60.txt with 4611 articles.\n",
      "Processed /kaggle/input/tamil-tamizh-wikipedia-articles/Tamil Wikipedia Text Articles/Tamil Wikipedia Text Articles/AA/wiki_42.txt with 7300 articles.\n",
      "Processed /kaggle/input/tamil-tamizh-wikipedia-articles/Tamil Wikipedia Text Articles/Tamil Wikipedia Text Articles/AA/wiki_59.txt with 5042 articles.\n",
      "Processed /kaggle/input/tamil-tamizh-wikipedia-articles/Tamil Wikipedia Text Articles/Tamil Wikipedia Text Articles/AA/wiki_92.txt with 4199 articles.\n",
      "Processed /kaggle/input/tamil-tamizh-wikipedia-articles/Tamil Wikipedia Text Articles/Tamil Wikipedia Text Articles/AA/wiki_55.txt with 4905 articles.\n",
      "Processed /kaggle/input/tamil-tamizh-wikipedia-articles/Tamil Wikipedia Text Articles/Tamil Wikipedia Text Articles/AA/wiki_09.txt with 3214 articles.\n",
      "Processed /kaggle/input/tamil-tamizh-wikipedia-articles/Tamil Wikipedia Text Articles/Tamil Wikipedia Text Articles/AA/wiki_88.txt with 3993 articles.\n",
      "Processed /kaggle/input/tamil-tamizh-wikipedia-articles/Tamil Wikipedia Text Articles/Tamil Wikipedia Text Articles/AA/wiki_36.txt with 4622 articles.\n",
      "Processed /kaggle/input/tamil-tamizh-wikipedia-articles/Tamil Wikipedia Text Articles/Tamil Wikipedia Text Articles/AA/wiki_06.txt with 2530 articles.\n",
      "Processed /kaggle/input/tamil-tamizh-wikipedia-articles/Tamil Wikipedia Text Articles/Tamil Wikipedia Text Articles/AA/wiki_08.txt with 3319 articles.\n",
      "Processed /kaggle/input/tamil-tamizh-wikipedia-articles/Tamil Wikipedia Text Articles/Tamil Wikipedia Text Articles/AA/wiki_70.txt with 2060 articles.\n",
      "Processed /kaggle/input/tamil-tamizh-wikipedia-articles/Tamil Wikipedia Text Articles/Tamil Wikipedia Text Articles/AA/wiki_64.txt with 4476 articles.\n",
      "Processed /kaggle/input/tamil-tamizh-wikipedia-articles/Tamil Wikipedia Text Articles/Tamil Wikipedia Text Articles/AA/wiki_72.txt with 2008 articles.\n",
      "Processed /kaggle/input/tamil-tamizh-wikipedia-articles/Tamil Wikipedia Text Articles/Tamil Wikipedia Text Articles/AA/wiki_19.txt with 4212 articles.\n",
      "Processed /kaggle/input/tamil-tamizh-wikipedia-articles/Tamil Wikipedia Text Articles/Tamil Wikipedia Text Articles/AA/wiki_73.txt with 2002 articles.\n",
      "Processed /kaggle/input/tamil-tamizh-wikipedia-articles/Tamil Wikipedia Text Articles/Tamil Wikipedia Text Articles/AA/wiki_30.txt with 889 articles.\n",
      "Processed /kaggle/input/tamil-tamizh-wikipedia-articles/Tamil Wikipedia Text Articles/Tamil Wikipedia Text Articles/AA/wiki_56.txt with 5192 articles.\n",
      "Processed /kaggle/input/tamil-tamizh-wikipedia-articles/Tamil Wikipedia Text Articles/Tamil Wikipedia Text Articles/AA/wiki_51.txt with 4501 articles.\n",
      "Processed /kaggle/input/tamil-tamizh-wikipedia-articles/Tamil Wikipedia Text Articles/Tamil Wikipedia Text Articles/AA/wiki_25.txt with 932 articles.\n",
      "Processed /kaggle/input/tamil-tamizh-wikipedia-articles/Tamil Wikipedia Text Articles/Tamil Wikipedia Text Articles/AA/wiki_71.txt with 2013 articles.\n",
      "Processed /kaggle/input/tamil-tamizh-wikipedia-articles/Tamil Wikipedia Text Articles/Tamil Wikipedia Text Articles/AA/wiki_91.txt with 4252 articles.\n",
      "Processed /kaggle/input/tamil-tamizh-wikipedia-articles/Tamil Wikipedia Text Articles/Tamil Wikipedia Text Articles/AA/wiki_68.txt with 3945 articles.\n",
      "Processed /kaggle/input/tamil-tamizh-wikipedia-articles/Tamil Wikipedia Text Articles/Tamil Wikipedia Text Articles/AA/wiki_45.txt with 5530 articles.\n",
      "Processed /kaggle/input/tamil-tamizh-wikipedia-articles/Tamil Wikipedia Text Articles/Tamil Wikipedia Text Articles/AA/wiki_33.txt with 5178 articles.\n",
      "Processed /kaggle/input/tamil-tamizh-wikipedia-articles/Tamil Wikipedia Text Articles/Tamil Wikipedia Text Articles/AA/wiki_24.txt with 1649 articles.\n",
      "Processed /kaggle/input/tamil-tamizh-wikipedia-articles/Tamil Wikipedia Text Articles/Tamil Wikipedia Text Articles/AA/wiki_34.txt with 3599 articles.\n",
      "Processed /kaggle/input/tamil-tamizh-wikipedia-articles/Tamil Wikipedia Text Articles/Tamil Wikipedia Text Articles/AA/wiki_63.txt with 5327 articles.\n",
      "Processed /kaggle/input/tamil-tamizh-wikipedia-articles/Tamil Wikipedia Text Articles/Tamil Wikipedia Text Articles/AA/wiki_69.txt with 3215 articles.\n",
      "Processed /kaggle/input/tamil-tamizh-wikipedia-articles/Tamil Wikipedia Text Articles/Tamil Wikipedia Text Articles/AA/wiki_75.txt with 2005 articles.\n",
      "Processed /kaggle/input/tamil-tamizh-wikipedia-articles/Tamil Wikipedia Text Articles/Tamil Wikipedia Text Articles/AA/wiki_39.txt with 5721 articles.\n",
      "Processed /kaggle/input/tamil-tamizh-wikipedia-articles/Tamil Wikipedia Text Articles/Tamil Wikipedia Text Articles/AA/wiki_57.txt with 4467 articles.\n",
      "Processed /kaggle/input/tamil-tamizh-wikipedia-articles/Tamil Wikipedia Text Articles/Tamil Wikipedia Text Articles/AA/wiki_05.txt with 2659 articles.\n",
      "Processed /kaggle/input/tamil-tamizh-wikipedia-articles/Tamil Wikipedia Text Articles/Tamil Wikipedia Text Articles/AA/wiki_89.txt with 3971 articles.\n",
      "Processed /kaggle/input/tamil-tamizh-wikipedia-articles/Tamil Wikipedia Text Articles/Tamil Wikipedia Text Articles/AA/wiki_28.txt with 1590 articles.\n",
      "Processed /kaggle/input/tamil-tamizh-wikipedia-articles/Tamil Wikipedia Text Articles/Tamil Wikipedia Text Articles/AA/wiki_18.txt with 3947 articles.\n",
      "Processed /kaggle/input/tamil-tamizh-wikipedia-articles/Tamil Wikipedia Text Articles/Tamil Wikipedia Text Articles/AA/wiki_48.txt with 4491 articles.\n",
      "Processed /kaggle/input/tamil-tamizh-wikipedia-articles/Tamil Wikipedia Text Articles/Tamil Wikipedia Text Articles/AA/wiki_94.txt with 3873 articles.\n",
      "Processed /kaggle/input/tamil-tamizh-wikipedia-articles/Tamil Wikipedia Text Articles/Tamil Wikipedia Text Articles/AA/wiki_84.txt with 4078 articles.\n",
      "Processed /kaggle/input/tamil-tamizh-wikipedia-articles/Tamil Wikipedia Text Articles/Tamil Wikipedia Text Articles/AA/wiki_15.txt with 4045 articles.\n",
      "Processed /kaggle/input/tamil-tamizh-wikipedia-articles/Tamil Wikipedia Text Articles/Tamil Wikipedia Text Articles/AA/wiki_14.txt with 4917 articles.\n",
      "Processed /kaggle/input/tamil-tamizh-wikipedia-articles/Tamil Wikipedia Text Articles/Tamil Wikipedia Text Articles/AA/wiki_83.txt with 4563 articles.\n",
      "Processed /kaggle/input/tamil-tamizh-wikipedia-articles/Tamil Wikipedia Text Articles/Tamil Wikipedia Text Articles/AA/wiki_85.txt with 4415 articles.\n",
      "Processed /kaggle/input/tamil-tamizh-wikipedia-articles/Tamil Wikipedia Text Articles/Tamil Wikipedia Text Articles/AA/wiki_13.txt with 4625 articles.\n",
      "Processed /kaggle/input/tamil-tamizh-wikipedia-articles/Tamil Wikipedia Text Articles/Tamil Wikipedia Text Articles/AA/wiki_62.txt with 5788 articles.\n",
      "Processed /kaggle/input/tamil-tamizh-wikipedia-articles/Tamil Wikipedia Text Articles/Tamil Wikipedia Text Articles/AA/wiki_76.txt with 1940 articles.\n",
      "Processed /kaggle/input/tamil-tamizh-wikipedia-articles/Tamil Wikipedia Text Articles/Tamil Wikipedia Text Articles/AA/wiki_27.txt with 1218 articles.\n",
      "Processed /kaggle/input/tamil-tamizh-wikipedia-articles/Tamil Wikipedia Text Articles/Tamil Wikipedia Text Articles/AA/wiki_37.txt with 5178 articles.\n",
      "Processed /kaggle/input/tamil-tamizh-wikipedia-articles/Tamil Wikipedia Text Articles/Tamil Wikipedia Text Articles/AA/wiki_26.txt with 592 articles.\n",
      "Processed /kaggle/input/tamil-tamizh-wikipedia-articles/Tamil Wikipedia Text Articles/Tamil Wikipedia Text Articles/AA/wiki_43.txt with 6496 articles.\n",
      "Processed /kaggle/input/tamil-tamizh-wikipedia-articles/Tamil Wikipedia Text Articles/Tamil Wikipedia Text Articles/AA/wiki_17.txt with 3097 articles.\n",
      "Processed /kaggle/input/tamil-tamizh-wikipedia-articles/Tamil Wikipedia Text Articles/Tamil Wikipedia Text Articles/AA/wiki_87.txt with 3918 articles.\n",
      "Processed /kaggle/input/tamil-tamizh-wikipedia-articles/Tamil Wikipedia Text Articles/Tamil Wikipedia Text Articles/AA/wiki_97.txt with 4037 articles.\n",
      "Processed /kaggle/input/tamil-tamizh-wikipedia-articles/Tamil Wikipedia Text Articles/Tamil Wikipedia Text Articles/AA/wiki_35.txt with 4897 articles.\n",
      "Processed /kaggle/input/tamil-tamizh-wikipedia-articles/Tamil Wikipedia Text Articles/Tamil Wikipedia Text Articles/AA/wiki_61.txt with 5108 articles.\n",
      "Processed /kaggle/input/tamil-tamizh-wikipedia-articles/Tamil Wikipedia Text Articles/Tamil Wikipedia Text Articles/AA/wiki_03.txt with 1886 articles.\n",
      "Processed /kaggle/input/tamil-tamizh-wikipedia-articles/Tamil Wikipedia Text Articles/Tamil Wikipedia Text Articles/AA/wiki_50.txt with 5597 articles.\n",
      "Processed /kaggle/input/tamil-tamizh-wikipedia-articles/Tamil Wikipedia Text Articles/Tamil Wikipedia Text Articles/AA/wiki_16.txt with 4597 articles.\n",
      "Processed /kaggle/input/tamil-tamizh-wikipedia-articles/Tamil Wikipedia Text Articles/Tamil Wikipedia Text Articles/AA/wiki_93.txt with 4727 articles.\n",
      "Processed /kaggle/input/tamil-tamizh-wikipedia-articles/Tamil Wikipedia Text Articles/Tamil Wikipedia Text Articles/AA/wiki_65.txt with 2341 articles.\n",
      "Processed /kaggle/input/tamil-tamizh-wikipedia-articles/Tamil Wikipedia Text Articles/Tamil Wikipedia Text Articles/AA/wiki_54.txt with 5603 articles.\n",
      "Processed /kaggle/input/tamil-tamizh-wikipedia-articles/Tamil Wikipedia Text Articles/Tamil Wikipedia Text Articles/AA/wiki_04.txt with 2610 articles.\n",
      "Processed /kaggle/input/tamil-tamizh-wikipedia-articles/Tamil Wikipedia Text Articles/Tamil Wikipedia Text Articles/AA/wiki_99.txt with 3711 articles.\n",
      "Processed /kaggle/input/tamil-tamizh-wikipedia-articles/Tamil Wikipedia Text Articles/Tamil Wikipedia Text Articles/AA/wiki_52.txt with 5495 articles.\n",
      "Processed /kaggle/input/tamil-tamizh-wikipedia-articles/Tamil Wikipedia Text Articles/Tamil Wikipedia Text Articles/AA/wiki_11.txt with 4374 articles.\n",
      "Processed /kaggle/input/tamil-tamizh-wikipedia-articles/Tamil Wikipedia Text Articles/Tamil Wikipedia Text Articles/AA/wiki_31.txt with 5252 articles.\n",
      "Processed /kaggle/input/tamil-tamizh-wikipedia-articles/Tamil Wikipedia Text Articles/Tamil Wikipedia Text Articles/AA/wiki_44.txt with 5633 articles.\n",
      "Processed /kaggle/input/tamil-tamizh-wikipedia-articles/Tamil Wikipedia Text Articles/Tamil Wikipedia Text Articles/AA/wiki_47.txt with 5456 articles.\n",
      "Processed /kaggle/input/tamil-tamizh-wikipedia-articles/Tamil Wikipedia Text Articles/Tamil Wikipedia Text Articles/AA/wiki_21.txt with 2566 articles.\n",
      "Processed /kaggle/input/tamil-tamizh-wikipedia-articles/Tamil Wikipedia Text Articles/Tamil Wikipedia Text Articles/AA/wiki_98.txt with 3890 articles.\n",
      "Processed /kaggle/input/tamil-tamizh-wikipedia-articles/Tamil Wikipedia Text Articles/Tamil Wikipedia Text Articles/AA/wiki_90.txt with 5126 articles.\n",
      "Processed /kaggle/input/tamil-tamizh-wikipedia-articles/Tamil Wikipedia Text Articles/Tamil Wikipedia Text Articles/AA/wiki_79.txt with 2091 articles.\n",
      "Processed /kaggle/input/tamil-tamizh-wikipedia-articles/Tamil Wikipedia Text Articles/Tamil Wikipedia Text Articles/AA/wiki_00.txt with 1206 articles.\n",
      "Processed /kaggle/input/tamil-tamizh-wikipedia-articles/Tamil Wikipedia Text Articles/Tamil Wikipedia Text Articles/AA/wiki_74.txt with 1995 articles.\n",
      "Processed /kaggle/input/tamil-tamizh-wikipedia-articles/Tamil Wikipedia Text Articles/Tamil Wikipedia Text Articles/AA/wiki_78.txt with 2012 articles.\n",
      "Processed /kaggle/input/tamil-tamizh-wikipedia-articles/Tamil Wikipedia Text Articles/Tamil Wikipedia Text Articles/AA/wiki_12.txt with 4528 articles.\n",
      "Processed /kaggle/input/tamil-tamizh-wikipedia-articles/Tamil Wikipedia Text Articles/Tamil Wikipedia Text Articles/AA/wiki_86.txt with 4492 articles.\n",
      "Processed /kaggle/input/tamil-tamizh-wikipedia-articles/Tamil Wikipedia Text Articles/Tamil Wikipedia Text Articles/AA/wiki_67.txt with 4942 articles.\n",
      "Processed /kaggle/input/tamil-tamizh-wikipedia-articles/Tamil Wikipedia Text Articles/Tamil Wikipedia Text Articles/AA/wiki_53.txt with 6142 articles.\n",
      "Processed /kaggle/input/tamil-tamizh-wikipedia-articles/Tamil Wikipedia Text Articles/Tamil Wikipedia Text Articles/AA/wiki_10.txt with 3507 articles.\n",
      "Processed /kaggle/input/tamil-tamizh-wikipedia-articles/Tamil Wikipedia Text Articles/Tamil Wikipedia Text Articles/AA/wiki_81.txt with 3629 articles.\n",
      "Processed /kaggle/input/tamil-tamizh-wikipedia-articles/Tamil Wikipedia Text Articles/Tamil Wikipedia Text Articles/AA/wiki_46.txt with 5075 articles.\n",
      "Processed /kaggle/input/tamil-tamizh-wikipedia-articles/Tamil Wikipedia Text Articles/Tamil Wikipedia Text Articles/AA/wiki_77.txt with 1991 articles.\n",
      "Processed /kaggle/input/tamil-tamizh-wikipedia-articles/Tamil Wikipedia Text Articles/Tamil Wikipedia Text Articles/AA/wiki_02.txt with 1200 articles.\n",
      "Processed /kaggle/input/tamil-tamizh-wikipedia-articles/Tamil Wikipedia Text Articles/Tamil Wikipedia Text Articles/AA/wiki_32.txt with 5296 articles.\n",
      "Processed /kaggle/input/tamil-tamizh-wikipedia-articles/Tamil Wikipedia Text Articles/Tamil Wikipedia Text Articles/AB/wiki_01.txt with 3900 articles.\n",
      "Processed /kaggle/input/tamil-tamizh-wikipedia-articles/Tamil Wikipedia Text Articles/Tamil Wikipedia Text Articles/AB/wiki_38.txt with 2817 articles.\n",
      "Processed /kaggle/input/tamil-tamizh-wikipedia-articles/Tamil Wikipedia Text Articles/Tamil Wikipedia Text Articles/AB/wiki_41.txt with 3129 articles.\n",
      "Processed /kaggle/input/tamil-tamizh-wikipedia-articles/Tamil Wikipedia Text Articles/Tamil Wikipedia Text Articles/AB/wiki_40.txt with 3326 articles.\n",
      "Processed /kaggle/input/tamil-tamizh-wikipedia-articles/Tamil Wikipedia Text Articles/Tamil Wikipedia Text Articles/AB/wiki_22.txt with 2823 articles.\n",
      "Processed /kaggle/input/tamil-tamizh-wikipedia-articles/Tamil Wikipedia Text Articles/Tamil Wikipedia Text Articles/AB/wiki_29.txt with 2644 articles.\n",
      "Processed /kaggle/input/tamil-tamizh-wikipedia-articles/Tamil Wikipedia Text Articles/Tamil Wikipedia Text Articles/AB/wiki_20.txt with 2737 articles.\n",
      "Processed /kaggle/input/tamil-tamizh-wikipedia-articles/Tamil Wikipedia Text Articles/Tamil Wikipedia Text Articles/AB/wiki_23.txt with 2933 articles.\n",
      "Processed /kaggle/input/tamil-tamizh-wikipedia-articles/Tamil Wikipedia Text Articles/Tamil Wikipedia Text Articles/AB/wiki_49.txt with 3616 articles.\n",
      "Processed /kaggle/input/tamil-tamizh-wikipedia-articles/Tamil Wikipedia Text Articles/Tamil Wikipedia Text Articles/AB/wiki_07.txt with 2641 articles.\n",
      "Processed /kaggle/input/tamil-tamizh-wikipedia-articles/Tamil Wikipedia Text Articles/Tamil Wikipedia Text Articles/AB/wiki_42.txt with 2672 articles.\n",
      "Processed /kaggle/input/tamil-tamizh-wikipedia-articles/Tamil Wikipedia Text Articles/Tamil Wikipedia Text Articles/AB/wiki_55.txt with 3238 articles.\n",
      "Processed /kaggle/input/tamil-tamizh-wikipedia-articles/Tamil Wikipedia Text Articles/Tamil Wikipedia Text Articles/AB/wiki_09.txt with 3251 articles.\n",
      "Processed /kaggle/input/tamil-tamizh-wikipedia-articles/Tamil Wikipedia Text Articles/Tamil Wikipedia Text Articles/AB/wiki_36.txt with 3494 articles.\n",
      "Processed /kaggle/input/tamil-tamizh-wikipedia-articles/Tamil Wikipedia Text Articles/Tamil Wikipedia Text Articles/AB/wiki_06.txt with 4000 articles.\n",
      "Processed /kaggle/input/tamil-tamizh-wikipedia-articles/Tamil Wikipedia Text Articles/Tamil Wikipedia Text Articles/AB/wiki_08.txt with 4488 articles.\n",
      "Processed /kaggle/input/tamil-tamizh-wikipedia-articles/Tamil Wikipedia Text Articles/Tamil Wikipedia Text Articles/AB/wiki_19.txt with 2824 articles.\n",
      "Processed /kaggle/input/tamil-tamizh-wikipedia-articles/Tamil Wikipedia Text Articles/Tamil Wikipedia Text Articles/AB/wiki_30.txt with 1996 articles.\n",
      "Processed /kaggle/input/tamil-tamizh-wikipedia-articles/Tamil Wikipedia Text Articles/Tamil Wikipedia Text Articles/AB/wiki_56.txt with 3410 articles.\n",
      "Processed /kaggle/input/tamil-tamizh-wikipedia-articles/Tamil Wikipedia Text Articles/Tamil Wikipedia Text Articles/AB/wiki_51.txt with 2587 articles.\n",
      "Processed /kaggle/input/tamil-tamizh-wikipedia-articles/Tamil Wikipedia Text Articles/Tamil Wikipedia Text Articles/AB/wiki_25.txt with 2676 articles.\n",
      "Processed /kaggle/input/tamil-tamizh-wikipedia-articles/Tamil Wikipedia Text Articles/Tamil Wikipedia Text Articles/AB/wiki_45.txt with 3596 articles.\n",
      "Processed /kaggle/input/tamil-tamizh-wikipedia-articles/Tamil Wikipedia Text Articles/Tamil Wikipedia Text Articles/AB/wiki_33.txt with 2579 articles.\n",
      "Processed /kaggle/input/tamil-tamizh-wikipedia-articles/Tamil Wikipedia Text Articles/Tamil Wikipedia Text Articles/AB/wiki_24.txt with 2570 articles.\n",
      "Processed /kaggle/input/tamil-tamizh-wikipedia-articles/Tamil Wikipedia Text Articles/Tamil Wikipedia Text Articles/AB/wiki_34.txt with 2498 articles.\n",
      "Processed /kaggle/input/tamil-tamizh-wikipedia-articles/Tamil Wikipedia Text Articles/Tamil Wikipedia Text Articles/AB/wiki_39.txt with 2863 articles.\n",
      "Processed /kaggle/input/tamil-tamizh-wikipedia-articles/Tamil Wikipedia Text Articles/Tamil Wikipedia Text Articles/AB/wiki_57.txt with 2728 articles.\n",
      "Processed /kaggle/input/tamil-tamizh-wikipedia-articles/Tamil Wikipedia Text Articles/Tamil Wikipedia Text Articles/AB/wiki_05.txt with 2957 articles.\n",
      "Processed /kaggle/input/tamil-tamizh-wikipedia-articles/Tamil Wikipedia Text Articles/Tamil Wikipedia Text Articles/AB/wiki_28.txt with 3188 articles.\n",
      "Processed /kaggle/input/tamil-tamizh-wikipedia-articles/Tamil Wikipedia Text Articles/Tamil Wikipedia Text Articles/AB/wiki_18.txt with 2761 articles.\n",
      "Processed /kaggle/input/tamil-tamizh-wikipedia-articles/Tamil Wikipedia Text Articles/Tamil Wikipedia Text Articles/AB/wiki_48.txt with 4005 articles.\n",
      "Processed /kaggle/input/tamil-tamizh-wikipedia-articles/Tamil Wikipedia Text Articles/Tamil Wikipedia Text Articles/AB/wiki_15.txt with 2246 articles.\n",
      "Processed /kaggle/input/tamil-tamizh-wikipedia-articles/Tamil Wikipedia Text Articles/Tamil Wikipedia Text Articles/AB/wiki_14.txt with 2029 articles.\n",
      "Processed /kaggle/input/tamil-tamizh-wikipedia-articles/Tamil Wikipedia Text Articles/Tamil Wikipedia Text Articles/AB/wiki_13.txt with 2416 articles.\n",
      "Processed /kaggle/input/tamil-tamizh-wikipedia-articles/Tamil Wikipedia Text Articles/Tamil Wikipedia Text Articles/AB/wiki_27.txt with 2982 articles.\n",
      "Processed /kaggle/input/tamil-tamizh-wikipedia-articles/Tamil Wikipedia Text Articles/Tamil Wikipedia Text Articles/AB/wiki_37.txt with 2292 articles.\n",
      "Processed /kaggle/input/tamil-tamizh-wikipedia-articles/Tamil Wikipedia Text Articles/Tamil Wikipedia Text Articles/AB/wiki_26.txt with 2564 articles.\n",
      "Processed /kaggle/input/tamil-tamizh-wikipedia-articles/Tamil Wikipedia Text Articles/Tamil Wikipedia Text Articles/AB/wiki_43.txt with 2800 articles.\n",
      "Processed /kaggle/input/tamil-tamizh-wikipedia-articles/Tamil Wikipedia Text Articles/Tamil Wikipedia Text Articles/AB/wiki_17.txt with 3128 articles.\n",
      "Processed /kaggle/input/tamil-tamizh-wikipedia-articles/Tamil Wikipedia Text Articles/Tamil Wikipedia Text Articles/AB/wiki_35.txt with 3110 articles.\n",
      "Processed /kaggle/input/tamil-tamizh-wikipedia-articles/Tamil Wikipedia Text Articles/Tamil Wikipedia Text Articles/AB/wiki_03.txt with 3662 articles.\n",
      "Processed /kaggle/input/tamil-tamizh-wikipedia-articles/Tamil Wikipedia Text Articles/Tamil Wikipedia Text Articles/AB/wiki_50.txt with 4290 articles.\n",
      "Processed /kaggle/input/tamil-tamizh-wikipedia-articles/Tamil Wikipedia Text Articles/Tamil Wikipedia Text Articles/AB/wiki_16.txt with 3339 articles.\n",
      "Processed /kaggle/input/tamil-tamizh-wikipedia-articles/Tamil Wikipedia Text Articles/Tamil Wikipedia Text Articles/AB/wiki_54.txt with 3344 articles.\n",
      "Processed /kaggle/input/tamil-tamizh-wikipedia-articles/Tamil Wikipedia Text Articles/Tamil Wikipedia Text Articles/AB/wiki_04.txt with 2688 articles.\n",
      "Processed /kaggle/input/tamil-tamizh-wikipedia-articles/Tamil Wikipedia Text Articles/Tamil Wikipedia Text Articles/AB/wiki_52.txt with 2956 articles.\n",
      "Processed /kaggle/input/tamil-tamizh-wikipedia-articles/Tamil Wikipedia Text Articles/Tamil Wikipedia Text Articles/AB/wiki_11.txt with 5564 articles.\n",
      "Processed /kaggle/input/tamil-tamizh-wikipedia-articles/Tamil Wikipedia Text Articles/Tamil Wikipedia Text Articles/AB/wiki_31.txt with 3691 articles.\n",
      "Processed /kaggle/input/tamil-tamizh-wikipedia-articles/Tamil Wikipedia Text Articles/Tamil Wikipedia Text Articles/AB/wiki_44.txt with 3658 articles.\n",
      "Processed /kaggle/input/tamil-tamizh-wikipedia-articles/Tamil Wikipedia Text Articles/Tamil Wikipedia Text Articles/AB/wiki_47.txt with 3552 articles.\n",
      "Processed /kaggle/input/tamil-tamizh-wikipedia-articles/Tamil Wikipedia Text Articles/Tamil Wikipedia Text Articles/AB/wiki_21.txt with 3292 articles.\n",
      "Processed /kaggle/input/tamil-tamizh-wikipedia-articles/Tamil Wikipedia Text Articles/Tamil Wikipedia Text Articles/AB/wiki_00.txt with 4482 articles.\n",
      "Processed /kaggle/input/tamil-tamizh-wikipedia-articles/Tamil Wikipedia Text Articles/Tamil Wikipedia Text Articles/AB/wiki_12.txt with 2779 articles.\n",
      "Processed /kaggle/input/tamil-tamizh-wikipedia-articles/Tamil Wikipedia Text Articles/Tamil Wikipedia Text Articles/AB/wiki_53.txt with 4006 articles.\n",
      "Processed /kaggle/input/tamil-tamizh-wikipedia-articles/Tamil Wikipedia Text Articles/Tamil Wikipedia Text Articles/AB/wiki_10.txt with 3650 articles.\n",
      "Processed /kaggle/input/tamil-tamizh-wikipedia-articles/Tamil Wikipedia Text Articles/Tamil Wikipedia Text Articles/AB/wiki_46.txt with 3264 articles.\n",
      "Processed /kaggle/input/tamil-tamizh-wikipedia-articles/Tamil Wikipedia Text Articles/Tamil Wikipedia Text Articles/AB/wiki_02.txt with 4027 articles.\n",
      "Processed /kaggle/input/tamil-tamizh-wikipedia-articles/Tamil Wikipedia Text Articles/Tamil Wikipedia Text Articles/AB/wiki_32.txt with 3288 articles.\n",
      "Word counting completed in 70.53 seconds.\n",
      "Total articles processed: 569055\n"
     ]
    }
   ],
   "source": [
    "# Start timing for word and article counting\n",
    "start_time = time.time()\n",
    "\n",
    "# Regex pattern to match <doc> tags in the text files\n",
    "doc_tag_pattern = re.compile(r'<doc id=\"[^\"]*\" title=\"[^\"]*\">')\n",
    "\n",
    "# Traverse the AA and AB directories to process .txt files\n",
    "for subdir in [\"AA\", \"AB\"]:\n",
    "    subdir_path = os.path.join(input_directory, subdir)\n",
    "    for file in os.listdir(subdir_path):\n",
    "        if file.endswith('.txt'):\n",
    "            file_path = os.path.join(subdir_path, file)\n",
    "            with open(file_path, 'r', encoding='utf-8') as f:\n",
    "                file_content = f.read()\n",
    "                \n",
    "                # Find all <doc> sections to identify articles\n",
    "                articles = doc_tag_pattern.split(file_content)[1:]  # Split and remove any empty initial part\n",
    "\n",
    "                # Count words in each article\n",
    "                for article in articles:\n",
    "                    total_word_count.update(count_words_in_text(article))\n",
    "                \n",
    "                # Update article count and progress tracking\n",
    "                article_count += len(articles)\n",
    "            print(f\"Processed {file_path} with {len(articles)} articles.\")\n",
    "\n",
    "# End timing and print time taken for word counting and total articles processed\n",
    "end_time = time.time()\n",
    "print(f\"Word counting completed in {end_time - start_time:.2f} seconds.\")\n",
    "print(f\"Total articles processed: {article_count}\")"
   ]
  },
  {
   "cell_type": "code",
   "execution_count": 6,
   "id": "ea396723",
   "metadata": {
    "execution": {
     "iopub.execute_input": "2024-11-12T13:40:15.858752Z",
     "iopub.status.busy": "2024-11-12T13:40:15.858243Z",
     "iopub.status.idle": "2024-11-12T13:40:17.351103Z",
     "shell.execute_reply": "2024-11-12T13:40:17.349959Z"
    },
    "papermill": {
     "duration": 1.510985,
     "end_time": "2024-11-12T13:40:17.353645",
     "exception": false,
     "start_time": "2024-11-12T13:40:15.842660",
     "status": "completed"
    },
    "tags": []
   },
   "outputs": [
    {
     "name": "stdout",
     "output_type": "stream",
     "text": [
      "DataFrame operations completed in 1.49 seconds.\n"
     ]
    }
   ],
   "source": [
    "# Start timing for DataFrame creation, filtering, and sorting\n",
    "df_start_time = time.time()\n",
    "\n",
    "# Convert the Counter to a DataFrame\n",
    "word_counts_df = pd.DataFrame(total_word_count.items(), columns=['word', 'count'])\n",
    "\n",
    "# Sort DataFrame by count in descending order\n",
    "sorted_word_counts_df = word_counts_df.sort_values(by='count', ascending=False)\n",
    "\n",
    "# End timing for DataFrame operations\n",
    "df_end_time = time.time()\n",
    "print(f\"DataFrame operations completed in {df_end_time - df_start_time:.2f} seconds.\")"
   ]
  },
  {
   "cell_type": "code",
   "execution_count": 7,
   "id": "71418e92",
   "metadata": {
    "execution": {
     "iopub.execute_input": "2024-11-12T13:40:17.384235Z",
     "iopub.status.busy": "2024-11-12T13:40:17.383181Z",
     "iopub.status.idle": "2024-11-12T13:40:17.400159Z",
     "shell.execute_reply": "2024-11-12T13:40:17.399041Z"
    },
    "papermill": {
     "duration": 0.034765,
     "end_time": "2024-11-12T13:40:17.402752",
     "exception": false,
     "start_time": "2024-11-12T13:40:17.367987",
     "status": "completed"
    },
    "tags": []
   },
   "outputs": [
    {
     "data": {
      "text/html": [
       "<div>\n",
       "<style scoped>\n",
       "    .dataframe tbody tr th:only-of-type {\n",
       "        vertical-align: middle;\n",
       "    }\n",
       "\n",
       "    .dataframe tbody tr th {\n",
       "        vertical-align: top;\n",
       "    }\n",
       "\n",
       "    .dataframe thead th {\n",
       "        text-align: right;\n",
       "    }\n",
       "</style>\n",
       "<table border=\"1\" class=\"dataframe\">\n",
       "  <thead>\n",
       "    <tr style=\"text-align: right;\">\n",
       "      <th></th>\n",
       "      <th>word</th>\n",
       "      <th>count</th>\n",
       "    </tr>\n",
       "  </thead>\n",
       "  <tbody>\n",
       "    <tr>\n",
       "      <th>0</th>\n",
       "      <td>முக்கிய</td>\n",
       "      <td>42306</td>\n",
       "    </tr>\n",
       "    <tr>\n",
       "      <th>1</th>\n",
       "      <td>அறிவிப்பு</td>\n",
       "      <td>12470</td>\n",
       "    </tr>\n",
       "    <tr>\n",
       "      <th>2</th>\n",
       "      <td>இக்கட்டுரை</td>\n",
       "      <td>11228</td>\n",
       "    </tr>\n",
       "    <tr>\n",
       "      <th>3</th>\n",
       "      <td>தமிழ்நாடு</td>\n",
       "      <td>156983</td>\n",
       "    </tr>\n",
       "    <tr>\n",
       "      <th>4</th>\n",
       "      <td>அரசுத்</td>\n",
       "      <td>12235</td>\n",
       "    </tr>\n",
       "    <tr>\n",
       "      <th>...</th>\n",
       "      <td>...</td>\n",
       "      <td>...</td>\n",
       "    </tr>\n",
       "    <tr>\n",
       "      <th>2033590</th>\n",
       "      <td>அமாபாத்</td>\n",
       "      <td>1</td>\n",
       "    </tr>\n",
       "    <tr>\n",
       "      <th>2033591</th>\n",
       "      <td>ஜாப்ராபாத்தின்</td>\n",
       "      <td>1</td>\n",
       "    </tr>\n",
       "    <tr>\n",
       "      <th>2033592</th>\n",
       "      <td>தானேதார்கள்</td>\n",
       "      <td>1</td>\n",
       "    </tr>\n",
       "    <tr>\n",
       "      <th>2033593</th>\n",
       "      <td>ஜாஞ்சிராவின்</td>\n",
       "      <td>1</td>\n",
       "    </tr>\n",
       "    <tr>\n",
       "      <th>2033594</th>\n",
       "      <td>ஜும்ரூத்</td>\n",
       "      <td>1</td>\n",
       "    </tr>\n",
       "  </tbody>\n",
       "</table>\n",
       "<p>2033595 rows × 2 columns</p>\n",
       "</div>"
      ],
      "text/plain": [
       "                   word   count\n",
       "0               முக்கிய   42306\n",
       "1             அறிவிப்பு   12470\n",
       "2            இக்கட்டுரை   11228\n",
       "3             தமிழ்நாடு  156983\n",
       "4                அரசுத்   12235\n",
       "...                 ...     ...\n",
       "2033590         அமாபாத்       1\n",
       "2033591  ஜாப்ராபாத்தின்       1\n",
       "2033592     தானேதார்கள்       1\n",
       "2033593    ஜாஞ்சிராவின்       1\n",
       "2033594        ஜும்ரூத்       1\n",
       "\n",
       "[2033595 rows x 2 columns]"
      ]
     },
     "execution_count": 7,
     "metadata": {},
     "output_type": "execute_result"
    }
   ],
   "source": [
    "word_counts_df"
   ]
  },
  {
   "cell_type": "code",
   "execution_count": 8,
   "id": "b3aa0cbb",
   "metadata": {
    "execution": {
     "iopub.execute_input": "2024-11-12T13:40:17.439024Z",
     "iopub.status.busy": "2024-11-12T13:40:17.438470Z",
     "iopub.status.idle": "2024-11-12T13:40:17.453942Z",
     "shell.execute_reply": "2024-11-12T13:40:17.452647Z"
    },
    "papermill": {
     "duration": 0.036576,
     "end_time": "2024-11-12T13:40:17.456850",
     "exception": false,
     "start_time": "2024-11-12T13:40:17.420274",
     "status": "completed"
    },
    "tags": []
   },
   "outputs": [
    {
     "data": {
      "text/html": [
       "<div>\n",
       "<style scoped>\n",
       "    .dataframe tbody tr th:only-of-type {\n",
       "        vertical-align: middle;\n",
       "    }\n",
       "\n",
       "    .dataframe tbody tr th {\n",
       "        vertical-align: top;\n",
       "    }\n",
       "\n",
       "    .dataframe thead th {\n",
       "        text-align: right;\n",
       "    }\n",
       "</style>\n",
       "<table border=\"1\" class=\"dataframe\">\n",
       "  <thead>\n",
       "    <tr style=\"text-align: right;\">\n",
       "      <th></th>\n",
       "      <th>word</th>\n",
       "      <th>count</th>\n",
       "    </tr>\n",
       "  </thead>\n",
       "  <tbody>\n",
       "    <tr>\n",
       "      <th>78</th>\n",
       "      <td>மற்றும்</td>\n",
       "      <td>408644</td>\n",
       "    </tr>\n",
       "    <tr>\n",
       "      <th>165</th>\n",
       "      <td>பகுப்பு</td>\n",
       "      <td>335572</td>\n",
       "    </tr>\n",
       "    <tr>\n",
       "      <th>2107</th>\n",
       "      <td>ஒரு</td>\n",
       "      <td>279287</td>\n",
       "    </tr>\n",
       "    <tr>\n",
       "      <th>102</th>\n",
       "      <td>ஆம்</td>\n",
       "      <td>205873</td>\n",
       "    </tr>\n",
       "    <tr>\n",
       "      <th>24</th>\n",
       "      <td>இந்த</td>\n",
       "      <td>185110</td>\n",
       "    </tr>\n",
       "    <tr>\n",
       "      <th>...</th>\n",
       "      <td>...</td>\n",
       "      <td>...</td>\n",
       "    </tr>\n",
       "    <tr>\n",
       "      <th>1037225</th>\n",
       "      <td>அர்வத்தைத்</td>\n",
       "      <td>1</td>\n",
       "    </tr>\n",
       "    <tr>\n",
       "      <th>1037224</th>\n",
       "      <td>ஊட்டியதாக்க்</td>\n",
       "      <td>1</td>\n",
       "    </tr>\n",
       "    <tr>\n",
       "      <th>1037223</th>\n",
       "      <td>மிச்சிகானுக்குத்</td>\n",
       "      <td>1</td>\n",
       "    </tr>\n",
       "    <tr>\n",
       "      <th>1037222</th>\n",
       "      <td>உரோமனும்</td>\n",
       "      <td>1</td>\n",
       "    </tr>\n",
       "    <tr>\n",
       "      <th>2033594</th>\n",
       "      <td>ஜும்ரூத்</td>\n",
       "      <td>1</td>\n",
       "    </tr>\n",
       "  </tbody>\n",
       "</table>\n",
       "<p>2033595 rows × 2 columns</p>\n",
       "</div>"
      ],
      "text/plain": [
       "                     word   count\n",
       "78                மற்றும்  408644\n",
       "165               பகுப்பு  335572\n",
       "2107                  ஒரு  279287\n",
       "102                   ஆம்  205873\n",
       "24                   இந்த  185110\n",
       "...                   ...     ...\n",
       "1037225        அர்வத்தைத்       1\n",
       "1037224      ஊட்டியதாக்க்       1\n",
       "1037223  மிச்சிகானுக்குத்       1\n",
       "1037222          உரோமனும்       1\n",
       "2033594          ஜும்ரூத்       1\n",
       "\n",
       "[2033595 rows x 2 columns]"
      ]
     },
     "execution_count": 8,
     "metadata": {},
     "output_type": "execute_result"
    }
   ],
   "source": [
    "sorted_word_counts_df"
   ]
  },
  {
   "cell_type": "code",
   "execution_count": 9,
   "id": "8c251c56",
   "metadata": {
    "execution": {
     "iopub.execute_input": "2024-11-12T13:40:17.489726Z",
     "iopub.status.busy": "2024-11-12T13:40:17.488801Z",
     "iopub.status.idle": "2024-11-12T13:40:20.122822Z",
     "shell.execute_reply": "2024-11-12T13:40:20.121569Z"
    },
    "papermill": {
     "duration": 2.653121,
     "end_time": "2024-11-12T13:40:20.125277",
     "exception": false,
     "start_time": "2024-11-12T13:40:17.472156",
     "status": "completed"
    },
    "tags": []
   },
   "outputs": [
    {
     "name": "stdout",
     "output_type": "stream",
     "text": [
      "Word counts saved to /kaggle/working/tamil_word_counts.csv\n"
     ]
    }
   ],
   "source": [
    "# Save the sorted DataFrame to CSV\n",
    "sorted_word_counts_df.to_csv(output_csv, index=False)\n",
    "print(f\"Word counts saved to {output_csv}\")"
   ]
  },
  {
   "cell_type": "code",
   "execution_count": 10,
   "id": "b6cc1cd7",
   "metadata": {
    "execution": {
     "iopub.execute_input": "2024-11-12T13:40:20.156426Z",
     "iopub.status.busy": "2024-11-12T13:40:20.155976Z",
     "iopub.status.idle": "2024-11-12T13:40:20.161560Z",
     "shell.execute_reply": "2024-11-12T13:40:20.160572Z"
    },
    "papermill": {
     "duration": 0.023645,
     "end_time": "2024-11-12T13:40:20.163641",
     "exception": false,
     "start_time": "2024-11-12T13:40:20.139996",
     "status": "completed"
    },
    "tags": []
   },
   "outputs": [
    {
     "name": "stdout",
     "output_type": "stream",
     "text": [
      "Total notebook runtime: 74.94 seconds\n"
     ]
    }
   ],
   "source": [
    "# Calculate total time taken for the notebook\n",
    "notebook_end_time = time.time()\n",
    "print(f\"Total notebook runtime: {notebook_end_time - notebook_start_time:.2f} seconds\")"
   ]
  },
  {
   "cell_type": "markdown",
   "id": "d786f779",
   "metadata": {
    "papermill": {
     "duration": 0.014168,
     "end_time": "2024-11-12T13:40:20.192334",
     "exception": false,
     "start_time": "2024-11-12T13:40:20.178166",
     "status": "completed"
    },
    "tags": []
   },
   "source": [
    "## Conclusion\n",
    "In this notebook, we successfully processed and analyzed Tamil Wikipedia articles to produce a word frequency count. The resulting word frequency list captures the distribution of words used across Wikipedia articles, offering a valuable resource for further studies in Tamil language processing. This data can be utilized in applications ranging from language modeling to vocabulary expansion for Tamil NLP tasks.\n",
    "This word frequency analysis serves as a foundational dataset, enabling more advanced text analysis, language modeling, and resource building for the Tamil language in NLP. Future steps could include filtering stopwords, visualizing the most frequent words, and exploring contextual usage patterns to enrich the dataset further.\n",
    "### Next Steps\n",
    "- **Data Cleaning**: Filter out stopwords or commonly used function words to focus on meaningful vocabulary.\n",
    "- **Visualization**: Use word clouds or other visual tools to represent word distributions.\n",
    "- **Language Modeling**: Leverage the word frequencies for language model training to improve NLP capabilities for Tamil.\n",
    "The journey to make Tamil a high-resource language for NLP is ongoing, and this word frequency dataset contributes an essential piece to that goal."
   ]
  }
 ],
 "metadata": {
  "kaggle": {
   "accelerator": "none",
   "dataSources": [
    {
     "databundleVersionId": 10139059,
     "datasetId": 6063111,
     "sourceId": 9884525,
     "sourceType": "datasetVersion"
    }
   ],
   "dockerImageVersionId": 30786,
   "isGpuEnabled": false,
   "isInternetEnabled": true,
   "language": "python",
   "sourceType": "notebook"
  },
  "kernelspec": {
   "display_name": "Python 3 (ipykernel)",
   "language": "python",
   "name": "python3"
  },
  "language_info": {
   "codemirror_mode": {
    "name": "ipython",
    "version": 3
   },
   "file_extension": ".py",
   "mimetype": "text/x-python",
   "name": "python",
   "nbconvert_exporter": "python",
   "pygments_lexer": "ipython3",
   "version": "3.8.19"
  },
  "papermill": {
   "default_parameters": {},
   "duration": 79.29059,
   "end_time": "2024-11-12T13:40:20.828531",
   "environment_variables": {},
   "exception": null,
   "input_path": "__notebook__.ipynb",
   "output_path": "__notebook__.ipynb",
   "parameters": {},
   "start_time": "2024-11-12T13:39:01.537941",
   "version": "2.6.0"
  }
 },
 "nbformat": 4,
 "nbformat_minor": 5
}
